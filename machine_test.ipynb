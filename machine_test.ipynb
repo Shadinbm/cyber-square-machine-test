{
 "cells": [
  {
   "cell_type": "markdown",
   "id": "f146d34d-9e08-4b2f-9c9c-64873c581fcb",
   "metadata": {},
   "source": [
    "<h2 style=\"background-color:green\"></h2>"
   ]
  },
  {
   "cell_type": "markdown",
   "id": "8ccd94f1-40a1-4de5-8eab-7dcf78b48a3b",
   "metadata": {},
   "source": [
    "# Bank Loan Default Prediction (Decision Tree)"
   ]
  },
  {
   "cell_type": "markdown",
   "id": "8363e67c-a857-437c-9648-20f14a7f1a84",
   "metadata": {},
   "source": [
    "<b>Dataset contains</b><br>\n",
    "\n",
    "Columns: \n",
    "* age – Customer age (21–65) \n",
    "* gender – Male/Female \n",
    "* income – Annual income in USD (20k–150k) \n",
    "* employment_type – Salaried, Self-Employed, Unemployed \n",
    "* credit_score – Credit score (300–850) \n",
    "* loan_amount – Loan requested (1k–50k USD) \n",
    "* loan_term – 12, 24, 36, 48, 60 months \n",
    "* default – Target variable (Yes/No) "
   ]
  },
  {
   "cell_type": "markdown",
   "id": "518b519f-ebf6-4b1f-b491-69bfbe18a384",
   "metadata": {},
   "source": [
    "<b>project contains:</b>\n",
    "\n",
    "1) EDA\n",
    "2) Feature engineering and preproccessing\n",
    "3) predictive model for whether a customer will default on a loan (Yes/No) using a Decision Tree Classifier. \n",
    "\n"
   ]
  },
  {
   "cell_type": "code",
   "execution_count": 134,
   "id": "9d4872fa-7c7e-415c-ac6e-447c57d479ad",
   "metadata": {},
   "outputs": [],
   "source": [
    "import pandas as pd\n",
    "import numpy as np"
   ]
  },
  {
   "cell_type": "markdown",
   "id": "56bede8c-dd6e-4ffc-80a3-3a35e0f6edb4",
   "metadata": {},
   "source": [
    "## Loading&EDA"
   ]
  },
  {
   "cell_type": "code",
   "execution_count": 135,
   "id": "ee875948-e870-43ba-8826-6c7110c0b73a",
   "metadata": {},
   "outputs": [],
   "source": [
    "df=pd.read_csv(r\"C:\\Users\\bmsha\\Downloads\\loan_default.csv\")"
   ]
  },
  {
   "cell_type": "code",
   "execution_count": 136,
   "id": "762d6107-ee7b-4587-b1ec-2f3a0a59dd5c",
   "metadata": {},
   "outputs": [
    {
     "data": {
      "text/html": [
       "<div>\n",
       "<style scoped>\n",
       "    .dataframe tbody tr th:only-of-type {\n",
       "        vertical-align: middle;\n",
       "    }\n",
       "\n",
       "    .dataframe tbody tr th {\n",
       "        vertical-align: top;\n",
       "    }\n",
       "\n",
       "    .dataframe thead th {\n",
       "        text-align: right;\n",
       "    }\n",
       "</style>\n",
       "<table border=\"1\" class=\"dataframe\">\n",
       "  <thead>\n",
       "    <tr style=\"text-align: right;\">\n",
       "      <th></th>\n",
       "      <th>age</th>\n",
       "      <th>gender</th>\n",
       "      <th>income</th>\n",
       "      <th>employment_type</th>\n",
       "      <th>credit_score</th>\n",
       "      <th>loan_amount</th>\n",
       "      <th>loan_term</th>\n",
       "      <th>default</th>\n",
       "    </tr>\n",
       "  </thead>\n",
       "  <tbody>\n",
       "    <tr>\n",
       "      <th>0</th>\n",
       "      <td>59</td>\n",
       "      <td>Male</td>\n",
       "      <td>28717</td>\n",
       "      <td>Self-Employed</td>\n",
       "      <td>313</td>\n",
       "      <td>34453</td>\n",
       "      <td>48</td>\n",
       "      <td>Yes</td>\n",
       "    </tr>\n",
       "    <tr>\n",
       "      <th>1</th>\n",
       "      <td>49</td>\n",
       "      <td>Male</td>\n",
       "      <td>147449</td>\n",
       "      <td>Self-Employed</td>\n",
       "      <td>803</td>\n",
       "      <td>19544</td>\n",
       "      <td>12</td>\n",
       "      <td>No</td>\n",
       "    </tr>\n",
       "    <tr>\n",
       "      <th>2</th>\n",
       "      <td>35</td>\n",
       "      <td>Female</td>\n",
       "      <td>48699</td>\n",
       "      <td>Salaried</td>\n",
       "      <td>530</td>\n",
       "      <td>13258</td>\n",
       "      <td>36</td>\n",
       "      <td>Yes</td>\n",
       "    </tr>\n",
       "    <tr>\n",
       "      <th>3</th>\n",
       "      <td>63</td>\n",
       "      <td>Female</td>\n",
       "      <td>93686</td>\n",
       "      <td>Salaried</td>\n",
       "      <td>383</td>\n",
       "      <td>31841</td>\n",
       "      <td>48</td>\n",
       "      <td>No</td>\n",
       "    </tr>\n",
       "    <tr>\n",
       "      <th>4</th>\n",
       "      <td>28</td>\n",
       "      <td>Male</td>\n",
       "      <td>87661</td>\n",
       "      <td>Salaried</td>\n",
       "      <td>429</td>\n",
       "      <td>49758</td>\n",
       "      <td>24</td>\n",
       "      <td>Yes</td>\n",
       "    </tr>\n",
       "  </tbody>\n",
       "</table>\n",
       "</div>"
      ],
      "text/plain": [
       "   age  gender  income employment_type  credit_score  loan_amount  loan_term  \\\n",
       "0   59    Male   28717   Self-Employed           313        34453         48   \n",
       "1   49    Male  147449   Self-Employed           803        19544         12   \n",
       "2   35  Female   48699        Salaried           530        13258         36   \n",
       "3   63  Female   93686        Salaried           383        31841         48   \n",
       "4   28    Male   87661        Salaried           429        49758         24   \n",
       "\n",
       "  default  \n",
       "0     Yes  \n",
       "1      No  \n",
       "2     Yes  \n",
       "3      No  \n",
       "4     Yes  "
      ]
     },
     "execution_count": 136,
     "metadata": {},
     "output_type": "execute_result"
    }
   ],
   "source": [
    "df.head()"
   ]
  },
  {
   "cell_type": "code",
   "execution_count": 137,
   "id": "219da3e5-0b01-40d0-aa7a-19bf12fb8d1a",
   "metadata": {
    "scrolled": true
   },
   "outputs": [
    {
     "data": {
      "text/html": [
       "<div>\n",
       "<style scoped>\n",
       "    .dataframe tbody tr th:only-of-type {\n",
       "        vertical-align: middle;\n",
       "    }\n",
       "\n",
       "    .dataframe tbody tr th {\n",
       "        vertical-align: top;\n",
       "    }\n",
       "\n",
       "    .dataframe thead th {\n",
       "        text-align: right;\n",
       "    }\n",
       "</style>\n",
       "<table border=\"1\" class=\"dataframe\">\n",
       "  <thead>\n",
       "    <tr style=\"text-align: right;\">\n",
       "      <th></th>\n",
       "      <th>count</th>\n",
       "      <th>mean</th>\n",
       "      <th>std</th>\n",
       "      <th>min</th>\n",
       "      <th>25%</th>\n",
       "      <th>50%</th>\n",
       "      <th>75%</th>\n",
       "      <th>max</th>\n",
       "    </tr>\n",
       "  </thead>\n",
       "  <tbody>\n",
       "    <tr>\n",
       "      <th>age</th>\n",
       "      <td>500.0</td>\n",
       "      <td>43.536</td>\n",
       "      <td>13.026130</td>\n",
       "      <td>21.0</td>\n",
       "      <td>32.00</td>\n",
       "      <td>45.0</td>\n",
       "      <td>54.25</td>\n",
       "      <td>65.0</td>\n",
       "    </tr>\n",
       "    <tr>\n",
       "      <th>income</th>\n",
       "      <td>500.0</td>\n",
       "      <td>84338.774</td>\n",
       "      <td>39718.152211</td>\n",
       "      <td>20077.0</td>\n",
       "      <td>47888.00</td>\n",
       "      <td>85375.5</td>\n",
       "      <td>120509.00</td>\n",
       "      <td>149948.0</td>\n",
       "    </tr>\n",
       "    <tr>\n",
       "      <th>credit_score</th>\n",
       "      <td>500.0</td>\n",
       "      <td>577.446</td>\n",
       "      <td>154.929175</td>\n",
       "      <td>300.0</td>\n",
       "      <td>446.75</td>\n",
       "      <td>584.0</td>\n",
       "      <td>713.00</td>\n",
       "      <td>849.0</td>\n",
       "    </tr>\n",
       "    <tr>\n",
       "      <th>loan_amount</th>\n",
       "      <td>500.0</td>\n",
       "      <td>24270.928</td>\n",
       "      <td>14018.820235</td>\n",
       "      <td>1097.0</td>\n",
       "      <td>12298.00</td>\n",
       "      <td>23659.5</td>\n",
       "      <td>35565.00</td>\n",
       "      <td>49998.0</td>\n",
       "    </tr>\n",
       "    <tr>\n",
       "      <th>loan_term</th>\n",
       "      <td>500.0</td>\n",
       "      <td>36.672</td>\n",
       "      <td>17.109702</td>\n",
       "      <td>12.0</td>\n",
       "      <td>24.00</td>\n",
       "      <td>36.0</td>\n",
       "      <td>48.00</td>\n",
       "      <td>60.0</td>\n",
       "    </tr>\n",
       "  </tbody>\n",
       "</table>\n",
       "</div>"
      ],
      "text/plain": [
       "              count       mean           std      min       25%      50%  \\\n",
       "age           500.0     43.536     13.026130     21.0     32.00     45.0   \n",
       "income        500.0  84338.774  39718.152211  20077.0  47888.00  85375.5   \n",
       "credit_score  500.0    577.446    154.929175    300.0    446.75    584.0   \n",
       "loan_amount   500.0  24270.928  14018.820235   1097.0  12298.00  23659.5   \n",
       "loan_term     500.0     36.672     17.109702     12.0     24.00     36.0   \n",
       "\n",
       "                    75%       max  \n",
       "age               54.25      65.0  \n",
       "income        120509.00  149948.0  \n",
       "credit_score     713.00     849.0  \n",
       "loan_amount    35565.00   49998.0  \n",
       "loan_term         48.00      60.0  "
      ]
     },
     "execution_count": 137,
     "metadata": {},
     "output_type": "execute_result"
    }
   ],
   "source": [
    "df.describe().T"
   ]
  },
  {
   "cell_type": "code",
   "execution_count": 138,
   "id": "e48b6703-9b80-4013-9f3f-fd2cc77ac211",
   "metadata": {},
   "outputs": [],
   "source": [
    "import matplotlib.pyplot as plt\n",
    "import seaborn as sns"
   ]
  },
  {
   "cell_type": "code",
   "execution_count": 139,
   "id": "4aa566ba-32c4-4f81-b070-49541ef68cbd",
   "metadata": {},
   "outputs": [
    {
     "data": {
      "image/png": "[encoded data removed]",
      "text/plain": [
       "<Figure size 1000x600 with 1 Axes>"
      ]
     },
     "metadata": {},
     "output_type": "display_data"
    }
   ],
   "source": [
    "plt.figure(figsize=(10,6))\n",
    "sns.boxplot(df)\n",
    "plt.yscale('log')\n",
    "plt.show()"
   ]
  },
  {
   "cell_type": "code",
   "execution_count": 140,
   "id": "726bf01b-9728-460d-87d7-e8ffffe16b80",
   "metadata": {},
   "outputs": [
    {
     "data": {
      "text/plain": [
       "age                0\n",
       "gender             0\n",
       "income             0\n",
       "employment_type    0\n",
       "credit_score       0\n",
       "loan_amount        0\n",
       "loan_term          0\n",
       "default            0\n",
       "dtype: int64"
      ]
     },
     "execution_count": 140,
     "metadata": {},
     "output_type": "execute_result"
    }
   ],
   "source": [
    "df.isna().sum()"
   ]
  },
  {
   "cell_type": "code",
   "execution_count": 141,
   "id": "3c7db621-2897-40bc-b00f-ad5243f91e9a",
   "metadata": {},
   "outputs": [
    {
     "data": {
      "image/png": "[encoded data removed]",
      "text/plain": [
       "<Figure size 1000x600 with 2 Axes>"
      ]
     },
     "metadata": {},
     "output_type": "display_data"
    }
   ],
   "source": [
    "plt.figure(figsize=(10,6))\n",
    "sns.heatmap(df.isna(),cmap='viridis',yticklabels=False)\n",
    "plt.show()"
   ]
  },
  {
   "cell_type": "code",
   "execution_count": 142,
   "id": "96e56633-2471-4707-ab7d-f2f12a922c1d",
   "metadata": {},
   "outputs": [
    {
     "data": {
      "text/plain": [
       "0"
      ]
     },
     "execution_count": 142,
     "metadata": {},
     "output_type": "execute_result"
    }
   ],
   "source": [
    "df.duplicated().sum()"
   ]
  },
  {
   "cell_type": "markdown",
   "id": "77ecca24-7c14-49aa-9195-407fac9818b0",
   "metadata": {},
   "source": [
    "> <b> Data Has No missing values and duplicates,Also mean and median is almost similiar hence low outliers "
   ]
  },
  {
   "cell_type": "markdown",
   "id": "cfbfa617-a5dd-4ff7-adfa-5a099b36b6fb",
   "metadata": {},
   "source": [
    "## Distribution of loan amounts"
   ]
  },
  {
   "cell_type": "code",
   "execution_count": 143,
   "id": "74814407-8cf5-43e2-83c9-eb077654254a",
   "metadata": {},
   "outputs": [
    {
     "data": {
      "image/png": "[encoded data removed]",
      "text/plain": [
       "<Figure size 1000x600 with 1 Axes>"
      ]
     },
     "metadata": {},
     "output_type": "display_data"
    }
   ],
   "source": [
    "plt.figure(figsize=(10,6))\n",
    "sns.histplot(data=df,x='loan_amount',kde=True)\n",
    "plt.show()"
   ]
  },
  {
   "cell_type": "markdown",
   "id": "26c2710b-5a38-45b0-855e-675c887596d5",
   "metadata": {},
   "source": [
    "> <b> Most of loan amount lies b/w 10k and 20k </b>"
   ]
  },
  {
   "cell_type": "markdown",
   "id": "2fc9b2b5-48c1-4c7e-a57a-61e2b65f15e2",
   "metadata": {},
   "source": [
    "## Average income of defaulters vs non-defaulters. "
   ]
  },
  {
   "cell_type": "code",
   "execution_count": 144,
   "id": "2dacf472-bca7-4fe1-aec7-85c1b50c2234",
   "metadata": {},
   "outputs": [],
   "source": [
    "nodf = df.loc[df['default'] == 'No', 'income']\n",
    "nodf=pd.DataFrame(nodf)\n"
   ]
  },
  {
   "cell_type": "code",
   "execution_count": 145,
   "id": "2a1dc40a-e377-40c8-b73a-b2c421a43a47",
   "metadata": {},
   "outputs": [
    {
     "data": {
      "text/plain": [
       "380"
      ]
     },
     "execution_count": 145,
     "metadata": {},
     "output_type": "execute_result"
    }
   ],
   "source": [
    "len(nodf)"
   ]
  },
  {
   "cell_type": "code",
   "execution_count": 146,
   "id": "47218695-3170-447c-9102-270d5638635c",
   "metadata": {},
   "outputs": [],
   "source": [
    "defu=df.loc[df['default']=='Yes','income']\n",
    "defu=pd.DataFrame(defu)\n"
   ]
  },
  {
   "cell_type": "code",
   "execution_count": 147,
   "id": "a26aedc3-fe5c-4313-86d7-e97e27e8f1a0",
   "metadata": {},
   "outputs": [
    {
     "data": {
      "text/plain": [
       "120"
      ]
     },
     "execution_count": 147,
     "metadata": {},
     "output_type": "execute_result"
    }
   ],
   "source": [
    "len(defu)"
   ]
  },
  {
   "cell_type": "code",
   "execution_count": 148,
   "id": "e1089d80-e799-43c6-8743-f1d93e0a58ce",
   "metadata": {},
   "outputs": [
    {
     "data": {
      "text/plain": [
       "95482.6"
      ]
     },
     "execution_count": 148,
     "metadata": {},
     "output_type": "execute_result"
    }
   ],
   "source": [
    "x=nodf['income'].mean()\n",
    "x"
   ]
  },
  {
   "cell_type": "markdown",
   "id": "8fb0c2c3-ee31-4bc8-ab23-4e2a27da7546",
   "metadata": {},
   "source": [
    "> non default avg"
   ]
  },
  {
   "cell_type": "code",
   "execution_count": 149,
   "id": "dda7a0c7-2b71-4fc9-b24f-a91265d611ed",
   "metadata": {},
   "outputs": [
    {
     "data": {
      "text/plain": [
       "49049.99166666667"
      ]
     },
     "execution_count": 149,
     "metadata": {},
     "output_type": "execute_result"
    }
   ],
   "source": [
    "y=defu['income'].mean()\n",
    "y"
   ]
  },
  {
   "cell_type": "markdown",
   "id": "e9b29c7b-6346-4784-85e9-98ac70b290d0",
   "metadata": {},
   "source": [
    "> default avg"
   ]
  },
  {
   "cell_type": "code",
   "execution_count": 150,
   "id": "a821169b-a388-461e-bd7e-0106813392ad",
   "metadata": {},
   "outputs": [
    {
     "data": {
      "image/png": "[encoded data removed]",
      "text/plain": [
       "<Figure size 600x400 with 1 Axes>"
      ]
     },
     "metadata": {},
     "output_type": "display_data"
    }
   ],
   "source": [
    "cat=['Non default','Default']\n",
    "val=[x,y]\n",
    "\n",
    "plt.figure(figsize=(6,4))\n",
    "plt.bar(cat,val,color=['red','blue'])\n",
    "plt.title(\"Avg Income of Defualters vs Non-defualters\")\n",
    "plt.xlabel(\"Type\")\n",
    "plt.ylabel(\"Income\")\n",
    "plt.show()"
   ]
  },
  {
   "cell_type": "markdown",
   "id": "da998e97-9f10-4ad8-88ba-5173672865a6",
   "metadata": {},
   "source": [
    "> <b> Non Defualters have more average income than defulters,"
   ]
  },
  {
   "cell_type": "markdown",
   "id": "47316e91-21ba-497b-a987-1a9cf70f890f",
   "metadata": {},
   "source": [
    "## Relationship between credit score and default "
   ]
  },
  {
   "cell_type": "code",
   "execution_count": 151,
   "id": "60c753df-7c09-4933-8ea6-79c7159434f3",
   "metadata": {},
   "outputs": [
    {
     "data": {
      "image/png": "[encoded data removed]",
      "text/plain": [
       "<Figure size 600x400 with 1 Axes>"
      ]
     },
     "metadata": {},
     "output_type": "display_data"
    }
   ],
   "source": [
    "plt.figure(figsize=(6,4))\n",
    "sns.barplot(data=df,x='default',y='credit_score')\n",
    "plt.title(\"Credit Scoreof Defualters vs Non-defualters\")\n",
    "plt.xlabel(\"Type\")\n",
    "plt.ylabel(\"Credit Score\")\n",
    "plt.show()"
   ]
  },
  {
   "cell_type": "markdown",
   "id": "091ed442-358e-4b43-80cd-9e44afaaee33",
   "metadata": {},
   "source": [
    "> <b> Non-defualters have more credict scores than defualters"
   ]
  },
  {
   "cell_type": "code",
   "execution_count": 152,
   "id": "661b0b63-f72e-4122-9944-1c3fc79bfe82",
   "metadata": {},
   "outputs": [
    {
     "data": {
      "text/plain": [
       "count    380.000000\n",
       "mean     605.581579\n",
       "std      150.031030\n",
       "min      306.000000\n",
       "25%      471.000000\n",
       "50%      623.000000\n",
       "75%      734.250000\n",
       "max      849.000000\n",
       "Name: credit_score, dtype: float64"
      ]
     },
     "execution_count": 152,
     "metadata": {},
     "output_type": "execute_result"
    }
   ],
   "source": [
    "nodef=df.loc[df['default']=='No','credit_score']\n",
    "nodef.describe().T"
   ]
  },
  {
   "cell_type": "markdown",
   "id": "c2c62a3a-ebce-4048-9d01-0beb49070ecc",
   "metadata": {},
   "source": [
    "> non-defualters"
   ]
  },
  {
   "cell_type": "code",
   "execution_count": 153,
   "id": "38c9f0e0-85a3-4a92-a8f3-3af2ae8c4767",
   "metadata": {},
   "outputs": [
    {
     "data": {
      "text/plain": [
       "count    120.000000\n",
       "mean     488.350000\n",
       "std      135.755257\n",
       "min      300.000000\n",
       "25%      373.500000\n",
       "50%      467.000000\n",
       "75%      585.250000\n",
       "max      830.000000\n",
       "Name: credit_score, dtype: float64"
      ]
     },
     "execution_count": 153,
     "metadata": {},
     "output_type": "execute_result"
    }
   ],
   "source": [
    "defu=df.loc[df['default']=='Yes','credit_score']\n",
    "defu.describe().T"
   ]
  },
  {
   "cell_type": "markdown",
   "id": "d7544c6d-ef02-4745-bd45-0f734b7423cd",
   "metadata": {},
   "source": [
    "> defualters"
   ]
  },
  {
   "cell_type": "markdown",
   "id": "aadea9be-09d6-4335-a2ff-75c7b8770079",
   "metadata": {},
   "source": [
    "<h3 style=\"background-color:cyan\"> Defaulters have significantly lower credit scores compared to the overall customer base, with a mean of ~488 and median of 467 versus ~606 and 623 overall. Most defaulters fall in the 374–585 range, whereas non-defaulters cluster higher around 600–700+. This shows a clear gap in creditworthiness, suggesting that lower credit scores are strongly associated with default risk, though some overlap exists since a few defaulters also have high scores.</h3>"
   ]
  },
  {
   "cell_type": "markdown",
   "id": "f73ccb89-9a17-4048-a21a-a417b10a6be2",
   "metadata": {},
   "source": [
    "#  Feature Engineering & Preprocessing"
   ]
  },
  {
   "cell_type": "code",
   "execution_count": 154,
   "id": "cf589ca5-f7c8-4b93-b985-6348bc1b9efb",
   "metadata": {},
   "outputs": [],
   "source": [
    "from sklearn.preprocessing import LabelEncoder"
   ]
  },
  {
   "cell_type": "code",
   "execution_count": 155,
   "id": "27cc84c2-e8e1-456f-b8e8-a03d4f16f903",
   "metadata": {},
   "outputs": [
    {
     "data": {
      "text/plain": [
       "array(['Yes', 'No'], dtype=object)"
      ]
     },
     "execution_count": 155,
     "metadata": {},
     "output_type": "execute_result"
    }
   ],
   "source": [
    "df['default'].unique()"
   ]
  },
  {
   "cell_type": "code",
   "execution_count": 156,
   "id": "0cddd07e-c32c-4860-a14f-c266019570da",
   "metadata": {},
   "outputs": [
    {
     "data": {
      "text/plain": [
       "array(['Self-Employed', 'Salaried', 'Unemployed'], dtype=object)"
      ]
     },
     "execution_count": 156,
     "metadata": {},
     "output_type": "execute_result"
    }
   ],
   "source": [
    "df['employment_type'].unique()"
   ]
  },
  {
   "cell_type": "code",
   "execution_count": 157,
   "id": "5b62f531-d020-4a1e-a094-84e6e98d8880",
   "metadata": {},
   "outputs": [
    {
     "data": {
      "text/plain": [
       "array(['Male', 'Female'], dtype=object)"
      ]
     },
     "execution_count": 157,
     "metadata": {},
     "output_type": "execute_result"
    }
   ],
   "source": [
    "df['gender'].unique()\t"
   ]
  },
  {
   "cell_type": "code",
   "execution_count": 158,
   "id": "ef41c06f-fe41-445a-a479-dab9b0e42130",
   "metadata": {},
   "outputs": [
    {
     "name": "stdout",
     "output_type": "stream",
     "text": [
      "0:No\n",
      "1:Yes\n"
     ]
    }
   ],
   "source": [
    "le=LabelEncoder()\n",
    "df['default']=le.fit_transform(df['default'])\n",
    "for label,i in enumerate(le.classes_):\n",
    "    print(f\"{label}:{i}\")"
   ]
  },
  {
   "cell_type": "code",
   "execution_count": 160,
   "id": "05d29c18-ea22-4a62-8a52-db812262229e",
   "metadata": {},
   "outputs": [
    {
     "name": "stdout",
     "output_type": "stream",
     "text": [
      "0:Salaried\n",
      "1:Self-Employed\n",
      "2:Unemployed\n"
     ]
    }
   ],
   "source": [
    "df['employment_type']=le.fit_transform(df['employment_type'])\n",
    "for label,i in enumerate(le.classes_):\n",
    "    print(f\"{label}:{i}\")"
   ]
  },
  {
   "cell_type": "code",
   "execution_count": 161,
   "id": "b75e75a9-afb3-44ae-8dbf-261804a266ec",
   "metadata": {},
   "outputs": [
    {
     "name": "stdout",
     "output_type": "stream",
     "text": [
      "0:Female\n",
      "1:Male\n"
     ]
    }
   ],
   "source": [
    "df['gender']=le.fit_transform(df['gender'])\n",
    "for label,i in enumerate(le.classes_):\n",
    "    print(f\"{label}:{i}\")"
   ]
  },
  {
   "cell_type": "code",
   "execution_count": 174,
   "id": "aed396e8-fb65-40c3-b12c-fef031f2f672",
   "metadata": {},
   "outputs": [
    {
     "data": {
      "text/plain": [
       "age                    0\n",
       "gender                 0\n",
       "income                 0\n",
       "employment_type        0\n",
       "credit_score           0\n",
       "loan_amount            0\n",
       "loan_term              0\n",
       "default                0\n",
       "income_Scaled          0\n",
       "credit_score_Scaled    0\n",
       "loan_amount_Scaled     0\n",
       "dtype: int64"
      ]
     },
     "execution_count": 174,
     "metadata": {},
     "output_type": "execute_result"
    }
   ],
   "source": [
    "df.isna().sum()"
   ]
  },
  {
   "cell_type": "code",
   "execution_count": 163,
   "id": "61b29659-e513-4cde-965d-809d1bec8648",
   "metadata": {},
   "outputs": [],
   "source": [
    "from sklearn.preprocessing import StandardScaler"
   ]
  },
  {
   "cell_type": "code",
   "execution_count": 164,
   "id": "b771d0be-dd2d-48c0-b937-f23c4929007b",
   "metadata": {},
   "outputs": [],
   "source": [
    "ss=StandardScaler()\n"
   ]
  },
  {
   "cell_type": "code",
   "execution_count": 167,
   "id": "c0243eaf-528c-4160-a546-46e5946af2d6",
   "metadata": {},
   "outputs": [],
   "source": [
    "df['income_Scaled']=ss.fit_transform(df[['income']])"
   ]
  },
  {
   "cell_type": "code",
   "execution_count": 169,
   "id": "af814265-e575-4705-bb74-38af555a1dcf",
   "metadata": {},
   "outputs": [],
   "source": [
    "df['credit_score_Scaled']=ss.fit_transform(df[['credit_score']])"
   ]
  },
  {
   "cell_type": "code",
   "execution_count": 170,
   "id": "461b8f25-f7c9-4426-9e9e-90e997c8fdbb",
   "metadata": {},
   "outputs": [],
   "source": [
    "df['loan_amount_Scaled']=ss.fit_transform(df[['loan_amount']])"
   ]
  },
  {
   "cell_type": "code",
   "execution_count": 171,
   "id": "124a2550-5616-4cd6-a988-9962eeb90ed5",
   "metadata": {},
   "outputs": [
    {
     "data": {
      "text/html": [
       "<div>\n",
       "<style scoped>\n",
       "    .dataframe tbody tr th:only-of-type {\n",
       "        vertical-align: middle;\n",
       "    }\n",
       "\n",
       "    .dataframe tbody tr th {\n",
       "        vertical-align: top;\n",
       "    }\n",
       "\n",
       "    .dataframe thead th {\n",
       "        text-align: right;\n",
       "    }\n",
       "</style>\n",
       "<table border=\"1\" class=\"dataframe\">\n",
       "  <thead>\n",
       "    <tr style=\"text-align: right;\">\n",
       "      <th></th>\n",
       "      <th>age</th>\n",
       "      <th>gender</th>\n",
       "      <th>income</th>\n",
       "      <th>employment_type</th>\n",
       "      <th>credit_score</th>\n",
       "      <th>loan_amount</th>\n",
       "      <th>loan_term</th>\n",
       "      <th>default</th>\n",
       "      <th>income_Scaled</th>\n",
       "      <th>credit_score_Scaled</th>\n",
       "      <th>loan_amount_Scaled</th>\n",
       "    </tr>\n",
       "  </thead>\n",
       "  <tbody>\n",
       "    <tr>\n",
       "      <th>0</th>\n",
       "      <td>59</td>\n",
       "      <td>1</td>\n",
       "      <td>28717</td>\n",
       "      <td>1</td>\n",
       "      <td>313</td>\n",
       "      <td>34453</td>\n",
       "      <td>48</td>\n",
       "      <td>1</td>\n",
       "      <td>-1.401814</td>\n",
       "      <td>-1.708593</td>\n",
       "      <td>0.727042</td>\n",
       "    </tr>\n",
       "    <tr>\n",
       "      <th>1</th>\n",
       "      <td>49</td>\n",
       "      <td>1</td>\n",
       "      <td>147449</td>\n",
       "      <td>1</td>\n",
       "      <td>803</td>\n",
       "      <td>19544</td>\n",
       "      <td>12</td>\n",
       "      <td>0</td>\n",
       "      <td>1.590543</td>\n",
       "      <td>1.457310</td>\n",
       "      <td>-0.337522</td>\n",
       "    </tr>\n",
       "    <tr>\n",
       "      <th>2</th>\n",
       "      <td>35</td>\n",
       "      <td>0</td>\n",
       "      <td>48699</td>\n",
       "      <td>0</td>\n",
       "      <td>530</td>\n",
       "      <td>13258</td>\n",
       "      <td>36</td>\n",
       "      <td>1</td>\n",
       "      <td>-0.898216</td>\n",
       "      <td>-0.306550</td>\n",
       "      <td>-0.786368</td>\n",
       "    </tr>\n",
       "    <tr>\n",
       "      <th>3</th>\n",
       "      <td>63</td>\n",
       "      <td>0</td>\n",
       "      <td>93686</td>\n",
       "      <td>0</td>\n",
       "      <td>383</td>\n",
       "      <td>31841</td>\n",
       "      <td>48</td>\n",
       "      <td>0</td>\n",
       "      <td>0.235575</td>\n",
       "      <td>-1.256321</td>\n",
       "      <td>0.540534</td>\n",
       "    </tr>\n",
       "    <tr>\n",
       "      <th>4</th>\n",
       "      <td>28</td>\n",
       "      <td>1</td>\n",
       "      <td>87661</td>\n",
       "      <td>0</td>\n",
       "      <td>429</td>\n",
       "      <td>49758</td>\n",
       "      <td>24</td>\n",
       "      <td>1</td>\n",
       "      <td>0.083729</td>\n",
       "      <td>-0.959114</td>\n",
       "      <td>1.819882</td>\n",
       "    </tr>\n",
       "    <tr>\n",
       "      <th>...</th>\n",
       "      <td>...</td>\n",
       "      <td>...</td>\n",
       "      <td>...</td>\n",
       "      <td>...</td>\n",
       "      <td>...</td>\n",
       "      <td>...</td>\n",
       "      <td>...</td>\n",
       "      <td>...</td>\n",
       "      <td>...</td>\n",
       "      <td>...</td>\n",
       "      <td>...</td>\n",
       "    </tr>\n",
       "    <tr>\n",
       "      <th>495</th>\n",
       "      <td>33</td>\n",
       "      <td>1</td>\n",
       "      <td>146944</td>\n",
       "      <td>0</td>\n",
       "      <td>787</td>\n",
       "      <td>1155</td>\n",
       "      <td>24</td>\n",
       "      <td>0</td>\n",
       "      <td>1.577816</td>\n",
       "      <td>1.353934</td>\n",
       "      <td>-1.650572</td>\n",
       "    </tr>\n",
       "    <tr>\n",
       "      <th>496</th>\n",
       "      <td>32</td>\n",
       "      <td>1</td>\n",
       "      <td>132726</td>\n",
       "      <td>1</td>\n",
       "      <td>423</td>\n",
       "      <td>2958</td>\n",
       "      <td>24</td>\n",
       "      <td>0</td>\n",
       "      <td>1.219485</td>\n",
       "      <td>-0.997880</td>\n",
       "      <td>-1.521831</td>\n",
       "    </tr>\n",
       "    <tr>\n",
       "      <th>497</th>\n",
       "      <td>51</td>\n",
       "      <td>1</td>\n",
       "      <td>101974</td>\n",
       "      <td>0</td>\n",
       "      <td>713</td>\n",
       "      <td>11693</td>\n",
       "      <td>60</td>\n",
       "      <td>0</td>\n",
       "      <td>0.444454</td>\n",
       "      <td>0.875818</td>\n",
       "      <td>-0.898116</td>\n",
       "    </tr>\n",
       "    <tr>\n",
       "      <th>498</th>\n",
       "      <td>22</td>\n",
       "      <td>0</td>\n",
       "      <td>125947</td>\n",
       "      <td>0</td>\n",
       "      <td>471</td>\n",
       "      <td>40112</td>\n",
       "      <td>48</td>\n",
       "      <td>0</td>\n",
       "      <td>1.048636</td>\n",
       "      <td>-0.687750</td>\n",
       "      <td>1.131118</td>\n",
       "    </tr>\n",
       "    <tr>\n",
       "      <th>499</th>\n",
       "      <td>55</td>\n",
       "      <td>0</td>\n",
       "      <td>46399</td>\n",
       "      <td>1</td>\n",
       "      <td>587</td>\n",
       "      <td>39547</td>\n",
       "      <td>24</td>\n",
       "      <td>0</td>\n",
       "      <td>-0.956182</td>\n",
       "      <td>0.061729</td>\n",
       "      <td>1.090774</td>\n",
       "    </tr>\n",
       "  </tbody>\n",
       "</table>\n",
       "<p>500 rows × 11 columns</p>\n",
       "</div>"
      ],
      "text/plain": [
       "     age  gender  income  employment_type  credit_score  loan_amount  \\\n",
       "0     59       1   28717                1           313        34453   \n",
       "1     49       1  147449                1           803        19544   \n",
       "2     35       0   48699                0           530        13258   \n",
       "3     63       0   93686                0           383        31841   \n",
       "4     28       1   87661                0           429        49758   \n",
       "..   ...     ...     ...              ...           ...          ...   \n",
       "495   33       1  146944                0           787         1155   \n",
       "496   32       1  132726                1           423         2958   \n",
       "497   51       1  101974                0           713        11693   \n",
       "498   22       0  125947                0           471        40112   \n",
       "499   55       0   46399                1           587        39547   \n",
       "\n",
       "     loan_term  default  income_Scaled  credit_score_Scaled  \\\n",
       "0           48        1      -1.401814            -1.708593   \n",
       "1           12        0       1.590543             1.457310   \n",
       "2           36        1      -0.898216            -0.306550   \n",
       "3           48        0       0.235575            -1.256321   \n",
       "4           24        1       0.083729            -0.959114   \n",
       "..         ...      ...            ...                  ...   \n",
       "495         24        0       1.577816             1.353934   \n",
       "496         24        0       1.219485            -0.997880   \n",
       "497         60        0       0.444454             0.875818   \n",
       "498         48        0       1.048636            -0.687750   \n",
       "499         24        0      -0.956182             0.061729   \n",
       "\n",
       "     loan_amount_Scaled  \n",
       "0              0.727042  \n",
       "1             -0.337522  \n",
       "2             -0.786368  \n",
       "3              0.540534  \n",
       "4              1.819882  \n",
       "..                  ...  \n",
       "495           -1.650572  \n",
       "496           -1.521831  \n",
       "497           -0.898116  \n",
       "498            1.131118  \n",
       "499            1.090774  \n",
       "\n",
       "[500 rows x 11 columns]"
      ]
     },
     "execution_count": 171,
     "metadata": {},
     "output_type": "execute_result"
    }
   ],
   "source": [
    "df"
   ]
  },
  {
   "cell_type": "markdown",
   "id": "d0e0e490-6013-4f75-bac4-baff2e21b867",
   "metadata": {},
   "source": [
    "# Predictive Modeling (Decision Tree) "
   ]
  },
  {
   "cell_type": "code",
   "execution_count": 172,
   "id": "b226cc59-1374-4293-88c0-cb3cccfa0da2",
   "metadata": {},
   "outputs": [],
   "source": [
    "from sklearn.model_selection import train_test_split\n",
    "from sklearn.tree import DecisionTreeClassifier\n",
    "from sklearn.metrics import classification_report,confusion_matrix"
   ]
  },
  {
   "cell_type": "code",
   "execution_count": 180,
   "id": "58fec09d-8b8e-476e-baf4-bd2397809212",
   "metadata": {},
   "outputs": [],
   "source": [
    "fet=['age','gender','income_Scaled','employment_type','credit_score_Scaled','loan_amount_Scaled']\n",
    "x=df[fet]\n",
    "y=df['default']\n",
    "xtrain,xtest,ytrain,ytest=train_test_split(x,y,random_state=42,test_size=0.2)\n",
    "dt=DecisionTreeClassifier(criterion='gini',random_state=42,max_depth=3)\n",
    "dt.fit(xtrain,ytrain)\n",
    "ypred=dt.predict(xtest)\n"
   ]
  },
  {
   "cell_type": "code",
   "execution_count": 182,
   "id": "028e00ef-b730-4c62-a46f-2db531b9216c",
   "metadata": {},
   "outputs": [
    {
     "name": "stdout",
     "output_type": "stream",
     "text": [
      "              precision    recall  f1-score   support\n",
      "\n",
      "           0       0.86      0.91      0.88        79\n",
      "           1       0.56      0.43      0.49        21\n",
      "\n",
      "    accuracy                           0.81       100\n",
      "   macro avg       0.71      0.67      0.68       100\n",
      "weighted avg       0.80      0.81      0.80       100\n",
      "\n"
     ]
    }
   ],
   "source": [
    "print(classification_report(ytest,ypred))"
   ]
  },
  {
   "cell_type": "code",
   "execution_count": 204,
   "id": "545824b1-d4d2-48ff-8540-591fa2cfff6d",
   "metadata": {},
   "outputs": [],
   "source": [
    "dff=pd.DataFrame({ 'Feature':fet,'importance':dt.feature_importances_})\n",
    "dff=dff.sort_values('importance',ascending=False)"
   ]
  },
  {
   "cell_type": "code",
   "execution_count": 205,
   "id": "28526cb7-6581-430f-87a2-75b471dccb78",
   "metadata": {},
   "outputs": [
    {
     "data": {
      "text/plain": [
       "<Axes: xlabel='importance', ylabel='Feature'>"
      ]
     },
     "execution_count": 205,
     "metadata": {},
     "output_type": "execute_result"
    },
    {
     "data": {
      "image/png": "[encoded data removed]",
      "text/plain": [
       "<Figure size 600x600 with 1 Axes>"
      ]
     },
     "metadata": {},
     "output_type": "display_data"
    }
   ],
   "source": [
    "plt.figure(figsize=(6,6))\n",
    "sns.barplot(data=dff,x='importance',y='Feature')\n",
    "\n"
   ]
  },
  {
   "cell_type": "markdown",
   "id": "55d7cbb9-fb92-4be7-9fb1-667ba5e79f7b",
   "metadata": {},
   "source": [
    "> income is the most importent feature"
   ]
  },
  {
   "cell_type": "markdown",
   "id": "a59f39cc-deef-45ad-8d63-c811b799bf5d",
   "metadata": {},
   "source": [
    "## Conclusion"
   ]
  },
  {
   "cell_type": "markdown",
   "id": "6eb7c370-c616-4849-92b0-59480f0f5620",
   "metadata": {},
   "source": [
    "<h3 style=\"background-color:'cyan'\">The analysis shows that income is the most important feature in predicting loan default. Individuals’ income levels have a strong influence on whether they are likely to default, indicating that financial capacity is a key determinant. However, while income is highly predictive, it cannot solely determine default, as other factors such as credit score, employment type, and loan amount also play significant roles. A comprehensive model using all relevant features provides more accurate predictions than relying on income alone</h3>"
   ]
  }
 ],
 "metadata": {
  "kernelspec": {
   "display_name": "Python 3 (ipykernel)",
   "language": "python",
   "name": "python3"
  },
  "language_info": {
   "codemirror_mode": {
    "name": "ipython",
    "version": 3
   },
   "file_extension": ".py",
   "mimetype": "text/x-python",
   "name": "python",
   "nbconvert_exporter": "python",
   "pygments_lexer": "ipython3",
   "version": "3.12.7"
  }
 },
 "nbformat": 4,
 "nbformat_minor": 5
}
